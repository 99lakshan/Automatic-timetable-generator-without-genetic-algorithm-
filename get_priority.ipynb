{
 "cells": [
  {
   "cell_type": "code",
   "execution_count": null,
   "id": "ba205aff",
   "metadata": {
    "pycharm": {
     "is_executing": true
    }
   },
   "outputs": [],
   "source": [
    "import numpy as np\n",
    "import pandas as pd"
   ]
  },
  {
   "cell_type": "markdown",
   "source": [],
   "metadata": {
    "collapsed": false
   }
  },
  {
   "cell_type": "code",
   "execution_count": 4,
   "id": "e99b58c5",
   "metadata": {},
   "outputs": [
    {
     "name": "stdout",
     "output_type": "stream",
     "text": [
      "  subject_code                        Subject_name  lecturer_code day  \\\n",
      "0   GTEC 12013          mathemaics for technology 2         DE001  MO   \n",
      "1   GTEC 12023             physics for technology 2         SL005  TH   \n",
      "2   GTEC 12033  fundamental practises in technology         DH001  MO   \n",
      "3   GTEC 12041        Engineering drawin with CAD 2         DE001  TU   \n",
      "4   GTEC 12062               ststics for technology         PB013  FR   \n",
      "5   GTEC 12033             English for technology 2         DE001  MO   \n",
      "\n",
      "  session_no  white_board  projector  computers  capacity  \n",
      "0         M1            1          1          0       200  \n",
      "1         M2            1          1          0       200  \n",
      "2         M1            1          1          0       200  \n",
      "3         E2            1          1          0       180  \n",
      "4         E1            1          1          1       200  \n",
      "5         E1            1          1          0       200  \n",
      "   Room NO.  capacity  white_board  projector  computers\n",
      "0      P001       200            1          1          0\n",
      "1      P002       100            1          1          0\n",
      "2      P003       100            1          1          0\n",
      "3      P004        50            1          1          0\n",
      "4      P005        50            1          1          0\n",
      "5      P006        50            1          1          0\n",
      "6      P007        50            1          1          0\n",
      "7      P008        35            1          1          0\n",
      "8      P009        35            1          1          0\n",
      "9      P010        35            1          1          0\n",
      "10     L001       180            1          1          1\n",
      "11     L002        70            1          1          1\n",
      "12     L003        70            1          1          1\n",
      "13     L004        20            1          1          1\n",
      "14     L005        15            1          1          1\n"
     ]
    }
   ],
   "source": [
    "input1=pd.read_csv(\"sam.csv\")\n",
    "#print(input1)\n",
    "\n",
    "lec_detail=pd.read_csv(\"instructors1.csv\")\n",
    "#print(lec_detail)\n",
    "\n",
    "room_detail=pd.read_csv(\"room_table.csv\")\n",
    "#print(room_detail)\n"
   ]
  },
  {
   "cell_type": "code",
   "execution_count": 16,
   "id": "b36413a3",
   "metadata": {},
   "outputs": [
    {
     "name": "stdout",
     "output_type": "stream",
     "text": [
      "  subject_code                        Subject_name  lecturer_code day  \\\n",
      "0   GTEC 12013          mathemaics for technology 2         DE001  MO   \n",
      "1   GTEC 12023             physics for technology 2         SL005  TH   \n",
      "2   GTEC 12033  fundamental practises in technology         DH001  MO   \n",
      "3   GTEC 12041        Engineering drawin with CAD 2         DE001  TU   \n",
      "4   GTEC 12062               ststics for technology         PB013  FR   \n",
      "5   GTEC 12033             English for technology 2         DE001  MO   \n",
      "\n",
      "  session_no  white_board  projector  computers  capacity  \n",
      "0         M1            1          1          0       200  \n",
      "1         M2            1          1          0       200  \n",
      "2         M1            1          1          0       200  \n",
      "3         E2            1          1          0       180  \n",
      "4         E1            1          1          1       200  \n",
      "5         E1            1          1          0       200  \n"
     ]
    },
    {
     "ename": "KeyError",
     "evalue": "\"None of ['lecturer_code'] are in the columns\"",
     "output_type": "error",
     "traceback": [
      "\u001B[1;31m---------------------------------------------------------------------------\u001B[0m",
      "\u001B[1;31mKeyError\u001B[0m                                  Traceback (most recent call last)",
      "\u001B[1;32m~\\AppData\\Local\\Temp\\ipykernel_18484\\1129333645.py\u001B[0m in \u001B[0;36m<module>\u001B[1;34m\u001B[0m\n\u001B[0;32m      1\u001B[0m \u001B[1;31m#input1 = input1.set_index ('lecturer_code')\u001B[0m\u001B[1;33m\u001B[0m\u001B[1;33m\u001B[0m\u001B[0m\n\u001B[0;32m      2\u001B[0m \u001B[0mprint\u001B[0m\u001B[1;33m(\u001B[0m\u001B[0minput1\u001B[0m\u001B[1;33m)\u001B[0m\u001B[1;33m\u001B[0m\u001B[1;33m\u001B[0m\u001B[0m\n\u001B[1;32m----> 3\u001B[1;33m \u001B[0mlec_detail\u001B[0m \u001B[1;33m=\u001B[0m \u001B[0mlec_detail\u001B[0m\u001B[1;33m.\u001B[0m\u001B[0mset_index\u001B[0m\u001B[1;33m(\u001B[0m\u001B[1;34m'lecturer_code'\u001B[0m\u001B[1;33m)\u001B[0m\u001B[1;33m\u001B[0m\u001B[1;33m\u001B[0m\u001B[0m\n\u001B[0m\u001B[0;32m      4\u001B[0m \u001B[0mprint\u001B[0m\u001B[1;33m(\u001B[0m\u001B[0mlec_detail\u001B[0m\u001B[1;33m)\u001B[0m\u001B[1;33m\u001B[0m\u001B[1;33m\u001B[0m\u001B[0m\n",
      "\u001B[1;32m~\\anaconda3\\lib\\site-packages\\pandas\\util\\_decorators.py\u001B[0m in \u001B[0;36mwrapper\u001B[1;34m(*args, **kwargs)\u001B[0m\n\u001B[0;32m    309\u001B[0m                     \u001B[0mstacklevel\u001B[0m\u001B[1;33m=\u001B[0m\u001B[0mstacklevel\u001B[0m\u001B[1;33m,\u001B[0m\u001B[1;33m\u001B[0m\u001B[1;33m\u001B[0m\u001B[0m\n\u001B[0;32m    310\u001B[0m                 )\n\u001B[1;32m--> 311\u001B[1;33m             \u001B[1;32mreturn\u001B[0m \u001B[0mfunc\u001B[0m\u001B[1;33m(\u001B[0m\u001B[1;33m*\u001B[0m\u001B[0margs\u001B[0m\u001B[1;33m,\u001B[0m \u001B[1;33m**\u001B[0m\u001B[0mkwargs\u001B[0m\u001B[1;33m)\u001B[0m\u001B[1;33m\u001B[0m\u001B[1;33m\u001B[0m\u001B[0m\n\u001B[0m\u001B[0;32m    312\u001B[0m \u001B[1;33m\u001B[0m\u001B[0m\n\u001B[0;32m    313\u001B[0m         \u001B[1;32mreturn\u001B[0m \u001B[0mwrapper\u001B[0m\u001B[1;33m\u001B[0m\u001B[1;33m\u001B[0m\u001B[0m\n",
      "\u001B[1;32m~\\anaconda3\\lib\\site-packages\\pandas\\core\\frame.py\u001B[0m in \u001B[0;36mset_index\u001B[1;34m(self, keys, drop, append, inplace, verify_integrity)\u001B[0m\n\u001B[0;32m   5501\u001B[0m \u001B[1;33m\u001B[0m\u001B[0m\n\u001B[0;32m   5502\u001B[0m         \u001B[1;32mif\u001B[0m \u001B[0mmissing\u001B[0m\u001B[1;33m:\u001B[0m\u001B[1;33m\u001B[0m\u001B[1;33m\u001B[0m\u001B[0m\n\u001B[1;32m-> 5503\u001B[1;33m             \u001B[1;32mraise\u001B[0m \u001B[0mKeyError\u001B[0m\u001B[1;33m(\u001B[0m\u001B[1;34mf\"None of {missing} are in the columns\"\u001B[0m\u001B[1;33m)\u001B[0m\u001B[1;33m\u001B[0m\u001B[1;33m\u001B[0m\u001B[0m\n\u001B[0m\u001B[0;32m   5504\u001B[0m \u001B[1;33m\u001B[0m\u001B[0m\n\u001B[0;32m   5505\u001B[0m         \u001B[1;32mif\u001B[0m \u001B[0minplace\u001B[0m\u001B[1;33m:\u001B[0m\u001B[1;33m\u001B[0m\u001B[1;33m\u001B[0m\u001B[0m\n",
      "\u001B[1;31mKeyError\u001B[0m: \"None of ['lecturer_code'] are in the columns\""
     ]
    }
   ],
   "source": [
    "#input1 = input1.set_index ('lecturer_code')\n",
    "#print(input1)\n",
    "#lec_detail = lec_detail.set_index('lecturer_code')\n",
    "#print(lec_detail)"
   ]
  },
  {
   "cell_type": "code",
   "execution_count": 17,
   "id": "179b2f18",
   "metadata": {},
   "outputs": [
    {
     "name": "stdout",
     "output_type": "stream",
     "text": [
      "[2, 8, 4, 2, 35, 2]\n"
     ]
    }
   ],
   "source": [
    "data2=[]\n",
    "\n",
    "for i in range(0,(len(input1))):\n",
    "\n",
    "    data = input1['lecturer_code'][i]\n",
    "\n",
    "    data1 = lec_detail['prio_level'][data]\n",
    "    data2.append(data1)\n",
    "print(data2)"
   ]
  },
  {
   "cell_type": "code",
   "execution_count": null,
   "id": "a0a20d76",
   "metadata": {
    "pycharm": {
     "is_executing": true
    }
   },
   "outputs": [],
   "source": [
    "data_new = input1.copy()\n",
    "data_new['prio_level'] = data2"
   ]
  },
  {
   "cell_type": "code",
   "execution_count": 18,
   "id": "a664c7b2",
   "metadata": {},
   "outputs": [
    {
     "name": "stdout",
     "output_type": "stream",
     "text": [
      "  subject_code                        Subject_name  lecturer_code day  \\\n",
      "0   GTEC 12013          mathemaics for technology 2         DE001  MO   \n",
      "1   GTEC 12023             physics for technology 2         SL005  TH   \n",
      "2   GTEC 12033  fundamental practises in technology         DH001  MO   \n",
      "3   GTEC 12041        Engineering drawin with CAD 2         DE001  TU   \n",
      "4   GTEC 12062               ststics for technology         PB013  FR   \n",
      "5   GTEC 12033             English for technology 2         DE001  MO   \n",
      "\n",
      "  session_no  white_board  projector  computers  capacity  prio_level  \n",
      "0         M1            1          1          0       200           2  \n",
      "1         M2            1          1          0       200           8  \n",
      "2         M1            1          1          0       200           4  \n",
      "3         E2            1          1          0       180           2  \n",
      "4         E1            1          1          1       200          35  \n",
      "5         E1            1          1          0       200           2  \n"
     ]
    }
   ],
   "source": [
    "print (data_new)\n",
    "#print(len(data_new))"
   ]
  },
  {
   "cell_type": "markdown",
   "id": "e64d126d",
   "metadata": {},
   "source": [
    "# Get the priority from the input table "
   ]
  },
  {
   "cell_type": "code",
   "execution_count": 9,
   "id": "042fdda0",
   "metadata": {},
   "outputs": [],
   "source": [
    "#cols = ['subject_code','lecturer_code','day','session_no','white_board','projector','computers']\n",
    "\n",
    "def number(x):\n",
    "    count = 0\n",
    "    prio_list = []\n",
    "    for i in range (0,(len(data_new))):\n",
    "        data_new['prio_level'][i]\n",
    "        if (data_new['prio_level'][i] == x):\n",
    "\n",
    "            #print(data_new[cols].loc[i])\n",
    "\n",
    "            prio_list.append (data_new.loc[[i],['subject_code','lecturer_code','day','session_no','white_board','projector','computers','capacity']])\n",
    "            #prio_list.append(a)\n",
    "            count = count + 1\n",
    "\n",
    "    print (\"count is : \",count)\n",
    "    \n",
    "    arr = np.array(prio_list).reshape(count,8)\n",
    "    #print(type(data_new))\n",
    "    return(arr)"
   ]
  },
  {
   "cell_type": "markdown",
   "id": "756d1413",
   "metadata": {},
   "source": [
    "# GET THE RAW ACCORDING TO THE DAY THEY REQUESTED"
   ]
  },
  {
   "cell_type": "code",
   "execution_count": 10,
   "id": "1b39b26d",
   "metadata": {},
   "outputs": [],
   "source": [
    "def get_day1(n):     #monday\n",
    "    d1 = [] \n",
    "    for j in range(0,(len(n))):\n",
    "        #print(n[j][2])\n",
    "        #print(\"jutto\")\n",
    "        if n[j][2] == 'MO':\n",
    "            d = (n[j])\n",
    "            d1.append(d)\n",
    "    day1 = np.array(d1)\n",
    "    return(day1)\n",
    "\n",
    "def get_day2(n):     #Tuesday\n",
    "    d2 = []\n",
    "    for j in range(0,(len(n))):        \n",
    "        if n[j][2] == 'TU':\n",
    "            d = (n[j])\n",
    "            d2.append(d)\n",
    "    day2 = np.array(d2)   \n",
    "    return(day2)\n",
    "\n",
    "def get_day3(n):     #Wednesday \n",
    "    d3 = []\n",
    "    for j in range(0,(len(n))):\n",
    "        if n[j][2] == 'WE':\n",
    "            d = (n[j])\n",
    "            d3.append(d)\n",
    "    day3 = np.array(d3)  \n",
    "    return(day3)\n",
    "\n",
    "def get_day4(n):       #Thursday\n",
    "    d4 = []\n",
    "    for j in range(0,(len(n))):\n",
    "        if n[j][2] == 'TH':\n",
    "            d = (n[j])\n",
    "            d4.append(d)\n",
    "    day4 = np.array(d4)  \n",
    "    return(day4)\n",
    "\n",
    "def get_day5(n):       #Friday\n",
    "    d5 = []\n",
    "    for j in range(0,(len(n))):\n",
    "        if n[j][2] == 'FR':\n",
    "            d = (n[j])\n",
    "            d5.append(d)\n",
    "    day5 = np.array(d5)                   \n",
    "    return(day5)\n"
   ]
  },
  {
   "cell_type": "markdown",
   "id": "d519b389",
   "metadata": {},
   "source": [
    "# GET THE TIME SLOT ACORDING TO THE DAY"
   ]
  },
  {
   "cell_type": "code",
   "execution_count": 11,
   "id": "8eb58424",
   "metadata": {},
   "outputs": [],
   "source": [
    "def time_slot1(w): # meka dala thiyenne d1 walat witharai\n",
    "    t1 = []\n",
    "    for k in range(0,x):  \n",
    "        if d1[k][3] == 'M1':\n",
    "            t = (d1[k])\n",
    "            t1.append(t)\n",
    "    T_slot1 = np.array(t1)\n",
    "    return(T_slot1)\n",
    "\n",
    "def time_slot2(w):   \n",
    "    t2 = [] \n",
    "    for k in range(x):\n",
    "        if d1[k][3] == 'M2':\n",
    "            t = (d1[k])\n",
    "            t2.append(t)\n",
    "    T_slot2 = np.array(t2)\n",
    "    return(t2)\n",
    "\n",
    "def time_slot3(w):    \n",
    "    t3 = []\n",
    "    for k in range(x):\n",
    "        if d1[k][3] == 'E1':\n",
    "            t = (d1[k])\n",
    "            t3.append(t)\n",
    "    T_slot3 = np.array(t3)\n",
    "    return(T_slot3)\n",
    "\n",
    "def time_slot4(w):    \n",
    "    t4 = []\n",
    "    for k in range(0,len(d4)): # mekedi aulk enwa 2 priority ekedi d4 dammat out ekak enne na\n",
    "        if d2[k][3] == 'E2':\n",
    "            t = (d2[k])\n",
    "            t4.append(t)\n",
    "    T_slot4 = np.array(t4)\n",
    "    return(T_slot4)"
   ]
  },
  {
   "cell_type": "markdown",
   "id": "03e1cd4a",
   "metadata": {},
   "source": [
    "# ENTER THE NUMBER OF THE PRIORITY OF A LECTURER"
   ]
  },
  {
   "cell_type": "code",
   "execution_count": 19,
   "id": "412f558d",
   "metadata": {},
   "outputs": [
    {
     "name": "stdout",
     "output_type": "stream",
     "text": [
      "Enter your prio_level : 2\n",
      "count is :  3\n",
      "this is your priory list : \n",
      " [['GTEC 12013' 'DE001' 'MO' 'M1' 1 1 0 200]\n",
      " ['GTEC 12041' 'DE001' 'TU' 'E2' 1 1 0 180]\n",
      " ['GTEC 12033' 'DE001' 'MO' 'E1' 1 1 0 200]]\n",
      "<class 'numpy.ndarray'>\n",
      "\n",
      " 3\n"
     ]
    }
   ],
   "source": [
    "#for x in range (0,36):\n",
    "    \n",
    "x = int(input(\"Enter your prio_level : \"))\n",
    "    \n",
    "\n",
    "n = (number(x))\n",
    "print (\"this is your priory list : \\n\",n)\n",
    "print(type(n))\n",
    "print('\\n',int(len(n)))"
   ]
  },
  {
   "cell_type": "code",
   "execution_count": 20,
   "id": "2e7b2d57",
   "metadata": {},
   "outputs": [
    {
     "name": "stdout",
     "output_type": "stream",
     "text": [
      "this is Monday list : \n",
      " [['GTEC 12013' 'DE001' 'MO' 'M1' 1 1 0 200]\n",
      " ['GTEC 12033' 'DE001' 'MO' 'E1' 1 1 0 200]]\n",
      "2\n",
      "\n",
      "this is time slot 01 list : \n",
      " [['GTEC 12013' 'DE001' 'MO' 'M1' 1 1 0 200]]\n",
      "___________________________________________________________________________________________\n",
      "this is time slot 03 list : \n",
      " [['GTEC 12033' 'DE001' 'MO' 'E1' 1 1 0 200]]\n",
      "___________________________________________________________________________________________\n",
      "\n",
      "this is Tuesday list : \n",
      " [['GTEC 12041' 'DE001' 'TU' 'E2' 1 1 0 180]]\n",
      "1\n"
     ]
    },
    {
     "ename": "NameError",
     "evalue": "name 'd4' is not defined",
     "output_type": "error",
     "traceback": [
      "\u001B[1;31m---------------------------------------------------------------------------\u001B[0m",
      "\u001B[1;31mNameError\u001B[0m                                 Traceback (most recent call last)",
      "\u001B[1;32m~\\AppData\\Local\\Temp\\ipykernel_18484\\2325658670.py\u001B[0m in \u001B[0;36m<module>\u001B[1;34m\u001B[0m\n\u001B[0;32m     22\u001B[0m \u001B[0mprint\u001B[0m\u001B[1;33m(\u001B[0m\u001B[0mlen\u001B[0m\u001B[1;33m(\u001B[0m\u001B[0md2\u001B[0m\u001B[1;33m)\u001B[0m\u001B[1;33m)\u001B[0m\u001B[1;33m\u001B[0m\u001B[1;33m\u001B[0m\u001B[0m\n\u001B[0;32m     23\u001B[0m \u001B[1;33m\u001B[0m\u001B[0m\n\u001B[1;32m---> 24\u001B[1;33m \u001B[0mtime4\u001B[0m \u001B[1;33m=\u001B[0m \u001B[1;33m(\u001B[0m\u001B[0mtime_slot4\u001B[0m\u001B[1;33m(\u001B[0m\u001B[0md2\u001B[0m\u001B[1;33m)\u001B[0m\u001B[1;33m)\u001B[0m\u001B[1;33m\u001B[0m\u001B[1;33m\u001B[0m\u001B[0m\n\u001B[0m\u001B[0;32m     25\u001B[0m \u001B[0mprint\u001B[0m \u001B[1;33m(\u001B[0m\u001B[1;34m\"\\nthis is time slot 04 list : \\n\"\u001B[0m\u001B[1;33m,\u001B[0m\u001B[0mtime4\u001B[0m\u001B[1;33m)\u001B[0m\u001B[1;33m\u001B[0m\u001B[1;33m\u001B[0m\u001B[0m\n\u001B[0;32m     26\u001B[0m \u001B[1;33m\u001B[0m\u001B[0m\n",
      "\u001B[1;32m~\\AppData\\Local\\Temp\\ipykernel_18484\\3805722430.py\u001B[0m in \u001B[0;36mtime_slot4\u001B[1;34m(w)\u001B[0m\n\u001B[0;32m     28\u001B[0m \u001B[1;32mdef\u001B[0m \u001B[0mtime_slot4\u001B[0m\u001B[1;33m(\u001B[0m\u001B[0mw\u001B[0m\u001B[1;33m)\u001B[0m\u001B[1;33m:\u001B[0m\u001B[1;33m\u001B[0m\u001B[1;33m\u001B[0m\u001B[0m\n\u001B[0;32m     29\u001B[0m     \u001B[0mt4\u001B[0m \u001B[1;33m=\u001B[0m \u001B[1;33m[\u001B[0m\u001B[1;33m]\u001B[0m\u001B[1;33m\u001B[0m\u001B[1;33m\u001B[0m\u001B[0m\n\u001B[1;32m---> 30\u001B[1;33m     \u001B[1;32mfor\u001B[0m \u001B[0mk\u001B[0m \u001B[1;32min\u001B[0m \u001B[0mrange\u001B[0m\u001B[1;33m(\u001B[0m\u001B[1;36m0\u001B[0m\u001B[1;33m,\u001B[0m\u001B[0mlen\u001B[0m\u001B[1;33m(\u001B[0m\u001B[0md4\u001B[0m\u001B[1;33m)\u001B[0m\u001B[1;33m)\u001B[0m\u001B[1;33m:\u001B[0m \u001B[1;31m# mekedi aulk enwa 2 priority ekedi d4 dammat out ekak enne na\u001B[0m\u001B[1;33m\u001B[0m\u001B[1;33m\u001B[0m\u001B[0m\n\u001B[0m\u001B[0;32m     31\u001B[0m         \u001B[1;32mif\u001B[0m \u001B[0md2\u001B[0m\u001B[1;33m[\u001B[0m\u001B[0mk\u001B[0m\u001B[1;33m]\u001B[0m\u001B[1;33m[\u001B[0m\u001B[1;36m3\u001B[0m\u001B[1;33m]\u001B[0m \u001B[1;33m==\u001B[0m \u001B[1;34m'E2'\u001B[0m\u001B[1;33m:\u001B[0m\u001B[1;33m\u001B[0m\u001B[1;33m\u001B[0m\u001B[0m\n\u001B[0;32m     32\u001B[0m             \u001B[0mt\u001B[0m \u001B[1;33m=\u001B[0m \u001B[1;33m(\u001B[0m\u001B[0md2\u001B[0m\u001B[1;33m[\u001B[0m\u001B[0mk\u001B[0m\u001B[1;33m]\u001B[0m\u001B[1;33m)\u001B[0m\u001B[1;33m\u001B[0m\u001B[1;33m\u001B[0m\u001B[0m\n",
      "\u001B[1;31mNameError\u001B[0m: name 'd4' is not defined"
     ]
    }
   ],
   "source": [
    "#print(n)\n",
    "\n",
    "d1 = (get_day1(n))\n",
    "print (\"this is Monday list : \\n\",d1)\n",
    "print(len(d1))\n",
    "#print(type(d1))\n",
    "\n",
    "time1 = (time_slot1(d1))\n",
    "print (\"\\nthis is time slot 01 list : \\n\",time1)\n",
    "\n",
    "print(\"___________________________________________________________________________________________\")\n",
    "\n",
    "time3 = (time_slot3(d1))\n",
    "print (\"this is time slot 03 list : \\n\",time3)\n",
    "\n",
    "print(\"___________________________________________________________________________________________\")\n",
    "\n",
    "#---------------------------------------------------------------------------------------------------------------------------\n",
    "\n",
    "d2 = (get_day2(n))\n",
    "print (\"\\nthis is Tuesday list : \\n\",d2)\n",
    "print(len(d2))\n",
    "\n",
    "time4 = (time_slot4(d2))\n",
    "print (\"\\nthis is time slot 04 list : \\n\",time4)\n",
    "\n",
    "print(\"___________________________________________________________________________________________\")\n",
    "\n",
    "#---------------------------------------------------------------------------------------------------------------------------\n",
    "\n",
    "d3 = (get_day3(n))\n",
    "print (\"\\nthis is Wednesday list : \\n\",d3)\n",
    "\n",
    "#---------------------------------------------------------------------------------------------------------------------------\n",
    "\n",
    "d4 = (get_day4(n))\n",
    "print (\"\\nthis is Thursday list : \\n\",d4)\n",
    "print(len(d4))\n",
    "\n",
    "#---------------------------------------------------------------------------------------------------------------------------\n",
    "\n",
    "d5 = (get_day5(n))\n",
    "print (\"\\nthis is Friday list : \\n\",d5)\n"
   ]
  },
  {
   "cell_type": "code",
   "execution_count": 28,
   "id": "7a66203a",
   "metadata": {},
   "outputs": [
    {
     "name": "stdout",
     "output_type": "stream",
     "text": [
      "[['GTEC 12013' 'DE001' 'MO' 'M1' 1 1 0 200]\n",
      " ['GTEC 12033' 'DE001' 'MO' 'E1' 1 1 0 200]]\n",
      "[['GTEC 12041' 'DE001' 'TU' 'E2' 1 1 0 180]]\n",
      "\n",
      "this is time slot 01 list : \n",
      " [['GTEC 12013' 'DE001' 'MO' 'M1' 1 1 0 200]]\n",
      "___________________________________________________________________________________________\n",
      "this is time slot 02 list : \n",
      " []\n",
      "___________________________________________________________________________________________\n",
      "this is time slot 03 list : \n",
      " [['GTEC 12033' 'DE001' 'MO' 'E1' 1 1 0 200]]\n",
      "___________________________________________________________________________________________\n",
      "this is time slot 04 list : \n",
      " []\n"
     ]
    }
   ],
   "source": [
    "print(d1)\n",
    "print(d2)\n",
    "\n",
    "time1 = (time_slot1(d2))\n",
    "print (\"\\nthis is time slot 01 list : \\n\",time1)\n",
    "\n",
    "print(\"___________________________________________________________________________________________\")\n",
    "\n",
    "time2 = (time_slot2(d1))\n",
    "print (\"this is time slot 02 list : \\n\",time2)\n",
    "\n",
    "print(\"___________________________________________________________________________________________\")\n",
    "\n",
    "time3 = (time_slot3(d1))\n",
    "print (\"this is time slot 03 list : \\n\",time3)\n",
    "\n",
    "print(\"___________________________________________________________________________________________\")\n",
    "\n",
    "time4 = (time_slot4(d1))\n",
    "print (\"this is time slot 04 list : \\n\",time4)\n"
   ]
  },
  {
   "cell_type": "code",
   "execution_count": 77,
   "id": "a560392a",
   "metadata": {},
   "outputs": [
    {
     "name": "stdout",
     "output_type": "stream",
     "text": [
      "<class 'list'>\n"
     ]
    }
   ],
   "source": [
    "P001 = [[0,0,0,0],[0,0,0,0],[0,0,0,0],[0,0,0,0],[0,0,0,0]]\n",
    "print(type(P001))\n",
    "P001[0][0] = time1[0][0]\n",
    "P002 = np.zeros((5,4))\n",
    "P003 = np.zeros((5,4))\n",
    "P004 = np.zeros((5,4))\n",
    "P005 = np.zeros((5,4))\n",
    "P006 = np.zeros((5,4))\n",
    "P007 = np.zeros((5,4))\n",
    "P008 = np.zeros((5,4))\n",
    "P009 = np.zeros((5,4))\n",
    "P010 = np.zeros((5,4))\n",
    "L001 = np.zeros((5,4))\n",
    "L002 = np.zeros((5,4))\n",
    "L003 = np.zeros((5,4))\n",
    "L004 = np.zeros((5,4))\n",
    "L005 = np.zeros((5,4))\n"
   ]
  },
  {
   "cell_type": "code",
   "execution_count": 78,
   "id": "6e090e31",
   "metadata": {},
   "outputs": [
    {
     "name": "stdout",
     "output_type": "stream",
     "text": [
      "[['GTEC 12013', 'SL001', 0, 0], [0, 0, 0, 0], [0, 0, 0, 0], [0, 0, 0, 0], [0, 0, 0, 0]]\n"
     ]
    }
   ],
   "source": [
    "P001[0][1] = 'SL001'\n",
    "print(P001)"
   ]
  },
  {
   "cell_type": "code",
   "execution_count": 79,
   "id": "bcd97603",
   "metadata": {},
   "outputs": [
    {
     "name": "stdout",
     "output_type": "stream",
     "text": [
      "[['GTEC 12013' 'SL001' '0' '0']\n",
      " ['0' '0' '0' '0']\n",
      " ['0' '0' '0' '0']\n",
      " ['0' '0' '0' '0']\n",
      " ['0' '0' '0' '0']]\n"
     ]
    }
   ],
   "source": [
    "arr = np.array(P001)\n",
    "print(arr)"
   ]
  },
  {
   "cell_type": "code",
   "execution_count": null,
   "id": "3fcb5042",
   "metadata": {},
   "outputs": [],
   "source": []
  }
 ],
 "metadata": {
  "kernelspec": {
   "display_name": "Python 3 (ipykernel)",
   "language": "python",
   "name": "python3"
  },
  "language_info": {
   "codemirror_mode": {
    "name": "ipython",
    "version": 3
   },
   "file_extension": ".py",
   "mimetype": "text/x-python",
   "name": "python",
   "nbconvert_exporter": "python",
   "pygments_lexer": "ipython3",
   "version": "3.9.13"
  }
 },
 "nbformat": 4,
 "nbformat_minor": 5
}
